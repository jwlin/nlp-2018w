{
 "cells": [
  {
   "cell_type": "code",
   "execution_count": 1,
   "metadata": {
    "collapsed": true
   },
   "outputs": [],
   "source": [
    "# disable INFO msgs in gensim\n",
    "import logging\n",
    "import warnings\n",
    "logger = logging.getLogger()\n",
    "logger.setLevel(logging.CRITICAL)\n",
    "warnings.filterwarnings(action='ignore', category=UserWarning, module='gensim')\n",
    "\n",
    "import numpy as np\n",
    "import pandas as pd\n",
    "import re\n",
    "import os\n",
    "import time\n",
    "import pickle\n",
    "from bs4 import BeautifulSoup\n",
    "from IPython.core.display import display, HTML\n",
    "\n",
    "# for training and prediction\n",
    "from sklearn import model_selection\n",
    "from sklearn.ensemble import RandomForestClassifier\n",
    "\n",
    "# for calculating similarities among text\n",
    "from nltk.tokenize import RegexpTokenizer\n",
    "from nltk.corpus import stopwords\n",
    "from gensim import corpora, models, similarities"
   ]
  },
  {
   "cell_type": "code",
   "execution_count": 2,
   "metadata": {
    "collapsed": true
   },
   "outputs": [],
   "source": [
    "# Functions for save and load derived data objects\n",
    "def save_obj(obj, fpath):\n",
    "    with open(fpath, 'wb') as f:\n",
    "        pickle.dump(obj, f, pickle.HIGHEST_PROTOCOL)\n",
    "\n",
    "def load_obj(fpath):\n",
    "    if os.path.exists(fpath):\n",
    "        with open(fpath, 'rb') as f:\n",
    "            return pickle.load(f)\n",
    "    else:\n",
    "        return None"
   ]
  },
  {
   "cell_type": "markdown",
   "metadata": {},
   "source": [
    "## Check the path of your csv files before loading the data"
   ]
  },
  {
   "cell_type": "code",
   "execution_count": 3,
   "metadata": {
    "collapsed": true
   },
   "outputs": [],
   "source": [
    "col_types = {'Id': 'int', \n",
    "             'OwnerUserId': 'float', \n",
    "             'CreationDate': 'str', \n",
    "             'ParentId': 'int', \n",
    "             'Score': 'int',\n",
    "             'Title': 'str',\n",
    "             'Body':'str'}\n",
    "\n",
    "questions = pd.read_csv('/pythonquestions/Questions.csv', encoding = \"ISO-8859-1\", dtype=col_types)\n",
    "answers = pd.read_csv('/pythonquestions/Answers.csv', encoding = \"ISO-8859-1\", dtype=col_types)"
   ]
  },
  {
   "cell_type": "code",
   "execution_count": 4,
   "metadata": {
    "collapsed": true
   },
   "outputs": [],
   "source": [
    "# question to answer: (ans_id, score, owner_id)\n",
    "q_to_a = load_obj('obj/q_to_a.pkl')\n",
    "if not q_to_a:\n",
    "    q_to_a = dict()\n",
    "    for _, row in answers[['Id', 'ParentId', 'Score', 'OwnerUserId']].iterrows():\n",
    "        q_id = row['ParentId']\n",
    "        a_id = row['Id']\n",
    "        a_score = row['Score']\n",
    "        a_owner_id = row['OwnerUserId'] if not np.isnan(row['OwnerUserId']) else None\n",
    "        if q_id not in q_to_a:\n",
    "            q_to_a[q_id] = [(a_id, a_score, a_owner_id)]\n",
    "        else:\n",
    "            q_to_a[q_id].append((a_id, a_score, a_owner_id))\n",
    "            \n",
    "    save_obj(q_to_a, 'obj/q_to_a.pkl')\n",
    "\n",
    "# Keep only the questions with 4-10 answers and a distinguishable answer\n",
    "q_to_a = {k:v for k, v in q_to_a.items() if len(v)>3 and len(v)<11 and max(v, key=lambda x: x[1])[1]>0}\n",
    "    \n",
    "# keep only qualified questions\n",
    "questions = questions[questions['Id'].isin(q_to_a)]"
   ]
  },
  {
   "cell_type": "code",
   "execution_count": 5,
   "metadata": {
    "collapsed": true
   },
   "outputs": [],
   "source": [
    "# Keep only answers related to a qualified question\n",
    "def answer_in_use(answer):\n",
    "    if answer['ParentId'] in q_to_a:\n",
    "        for item in q_to_a[answer['ParentId']]:\n",
    "            if answer['Id'] == item[0]:\n",
    "                return True\n",
    "    return False\n",
    "\n",
    "answers = answers[answers.apply(lambda x: answer_in_use(x), axis=1)]"
   ]
  },
  {
   "cell_type": "code",
   "execution_count": 6,
   "metadata": {},
   "outputs": [
    {
     "name": "stdout",
     "output_type": "stream",
     "text": [
      "<class 'pandas.core.frame.DataFrame'>\n",
      "Int64Index: 44184 entries, 0 to 607160\n",
      "Data columns (total 6 columns):\n",
      "Id              44184 non-null int32\n",
      "OwnerUserId     43286 non-null float64\n",
      "CreationDate    44184 non-null object\n",
      "Score           44184 non-null int32\n",
      "Title           44184 non-null object\n",
      "Body            44184 non-null object\n",
      "dtypes: float64(1), int32(2), object(3)\n",
      "memory usage: 2.0+ MB\n"
     ]
    }
   ],
   "source": [
    "questions.info()"
   ]
  },
  {
   "cell_type": "code",
   "execution_count": 7,
   "metadata": {},
   "outputs": [
    {
     "name": "stdout",
     "output_type": "stream",
     "text": [
      "<class 'pandas.core.frame.DataFrame'>\n",
      "Int64Index: 215203 entries, 0 to 987106\n",
      "Data columns (total 6 columns):\n",
      "Id              215203 non-null int32\n",
      "OwnerUserId     213419 non-null float64\n",
      "CreationDate    215203 non-null object\n",
      "ParentId        215203 non-null int32\n",
      "Score           215203 non-null int32\n",
      "Body            215203 non-null object\n",
      "dtypes: float64(1), int32(3), object(2)\n",
      "memory usage: 9.0+ MB\n"
     ]
    }
   ],
   "source": [
    "answers.info()"
   ]
  },
  {
   "cell_type": "markdown",
   "metadata": {},
   "source": [
    "## Semantic features: Question-Ans similarity and Ans-Ans similarity\n",
    "### (It took 1.5 hr to run on my Core-i7-7700 / 32GB RAM laptop)"
   ]
  },
  {
   "cell_type": "code",
   "execution_count": 8,
   "metadata": {
    "collapsed": true
   },
   "outputs": [],
   "source": [
    "#t_start = time.time()"
   ]
  },
  {
   "cell_type": "code",
   "execution_count": 9,
   "metadata": {},
   "outputs": [],
   "source": [
    "def compute_sim(q_to_a, df_questions, df_answers):\n",
    "    a_sim = dict()\n",
    "    tokenizer = RegexpTokenizer(r'\\w+')\n",
    "    print(len(q_to_a))\n",
    "    c = 0\n",
    "    for q_id, a_list in q_to_a.items():\n",
    "        \n",
    "        c+=1\n",
    "        print(str(c) + ' ' + str(len(a_list)), end='\\r')\n",
    "        \n",
    "        # get split body text for a question and the answers\n",
    "        q_body = df_questions[df_questions['Id']==q_id].iloc[0]['Body']\n",
    "        q_body = BeautifulSoup(q_body, 'html.parser').get_text()#.split()\n",
    "        q_body = tokenizer.tokenize(q_body.lower())\n",
    "        q_body = [w for w in q_body if w not in stopwords.words('english')]\n",
    "        #print(q_body)\n",
    "        \n",
    "        a_bodies = list()\n",
    "        for a_id, _, _ in a_list:\n",
    "            a_body = df_answers[df_answers['Id']==a_id].iloc[0]['Body']\n",
    "            a_body = BeautifulSoup(a_body, 'html.parser').get_text()#.split()\n",
    "            a_body = tokenizer.tokenize(a_body.lower())\n",
    "            a_body = [w for w in a_body if w not in stopwords.words('english')]\n",
    "            a_bodies.append(a_body)\n",
    "        #print(a_bodies)\n",
    "        \n",
    "        # apply a series of transformations to the answers: bag-of-word, tf-idf, and lsi\n",
    "        dictionary = corpora.Dictionary(a_bodies)\n",
    "        corpus = [dictionary.doc2bow(a) for a in a_bodies]\n",
    "        #print(a_bodies[0], len(a_bodies[0]))\n",
    "        #print(corpus[0], len(corpus[0]))\n",
    "        tfidf = models.TfidfModel(corpus)\n",
    "        corpus_tfidf = tfidf[corpus]\n",
    "        #print(corpus_tfidf[0], len(corpus_tfidf[0]))\n",
    "        lsi = models.LsiModel(corpus_tfidf, id2word=dictionary, num_topics=4)\n",
    "        corpus_lsi = lsi[corpus_tfidf]\n",
    "        #print(corpus_lsi[0], len(corpus_lsi[0]))\n",
    "        \n",
    "        index = similarities.MatrixSimilarity(corpus_lsi)\n",
    "        \n",
    "        # question-to-answer similarity\n",
    "        q_bow = dictionary.doc2bow(q_body)\n",
    "        q_lsi = lsi[q_bow]\n",
    "        q_to_a_sim = index[q_lsi]\n",
    "        #print(q_to_a_sim)\n",
    "        \n",
    "        # ans-to-ans similarity, excluding the answer itself\n",
    "        for idx, a_lsi in enumerate(corpus_lsi):\n",
    "            a_to_a_sim = index[a_lsi]\n",
    "            a_to_a_sim = [a_to_a_sim[i] for i in range(len(a_to_a_sim)) if i != idx]  # exclude itself\n",
    "            \n",
    "            # construct the dictionary a_sim\n",
    "            a_id = a_list[idx][0]\n",
    "            sim_to_q = q_to_a_sim[idx]\n",
    "            max_sim_to_a = max(a_to_a_sim)\n",
    "            min_sim_to_a = min(a_to_a_sim)\n",
    "            a_sim[a_id] = (sim_to_q, max_sim_to_a, min_sim_to_a)\n",
    "    \n",
    "    return a_sim\n",
    "\n",
    "# a_sim: a_id -> (sim_to_question, max_sim_to_other_ans, min_sim_to_other_ans)\n",
    "a_sim = load_obj('obj/a_sim.pkl')\n",
    "if not a_sim:\n",
    "    a_sim = compute_sim(q_to_a, questions, answers)\n",
    "    save_obj(a_sim, 'obj/a_sim.pkl')"
   ]
  },
  {
   "cell_type": "code",
   "execution_count": 10,
   "metadata": {},
   "outputs": [],
   "source": [
    "#t_end = time.time()\n",
    "#print('time elapsed: %f minutes', ((t_end-t_start)/60.0))"
   ]
  },
  {
   "cell_type": "code",
   "execution_count": 11,
   "metadata": {},
   "outputs": [
    {
     "data": {
      "text/html": [
       "<div>\n",
       "<style>\n",
       "    .dataframe thead tr:only-child th {\n",
       "        text-align: right;\n",
       "    }\n",
       "\n",
       "    .dataframe thead th {\n",
       "        text-align: left;\n",
       "    }\n",
       "\n",
       "    .dataframe tbody tr th {\n",
       "        vertical-align: top;\n",
       "    }\n",
       "</style>\n",
       "<table border=\"1\" class=\"dataframe\">\n",
       "  <thead>\n",
       "    <tr style=\"text-align: right;\">\n",
       "      <th></th>\n",
       "      <th>Id</th>\n",
       "      <th>OwnerUserId</th>\n",
       "      <th>CreationDate</th>\n",
       "      <th>ParentId</th>\n",
       "      <th>Score</th>\n",
       "      <th>Body</th>\n",
       "      <th>SimToQ</th>\n",
       "      <th>MaxSimToA</th>\n",
       "      <th>MinSimToA</th>\n",
       "    </tr>\n",
       "  </thead>\n",
       "  <tbody>\n",
       "    <tr>\n",
       "      <th>0</th>\n",
       "      <td>497</td>\n",
       "      <td>50.0</td>\n",
       "      <td>2008-08-02T16:56:53Z</td>\n",
       "      <td>469</td>\n",
       "      <td>4</td>\n",
       "      <td>&lt;p&gt;open up a terminal (Applications-&amp;gt;Utilit...</td>\n",
       "      <td>0.463144</td>\n",
       "      <td>0.010914</td>\n",
       "      <td>0.000000</td>\n",
       "    </tr>\n",
       "    <tr>\n",
       "      <th>1</th>\n",
       "      <td>518</td>\n",
       "      <td>153.0</td>\n",
       "      <td>2008-08-02T17:42:28Z</td>\n",
       "      <td>469</td>\n",
       "      <td>2</td>\n",
       "      <td>&lt;p&gt;I haven't been able to find anything that d...</td>\n",
       "      <td>0.616794</td>\n",
       "      <td>0.144977</td>\n",
       "      <td>0.000000</td>\n",
       "    </tr>\n",
       "    <tr>\n",
       "      <th>3</th>\n",
       "      <td>538</td>\n",
       "      <td>156.0</td>\n",
       "      <td>2008-08-02T18:56:56Z</td>\n",
       "      <td>535</td>\n",
       "      <td>23</td>\n",
       "      <td>&lt;p&gt;One possibility is Hudson.  It's written in...</td>\n",
       "      <td>0.088449</td>\n",
       "      <td>0.853997</td>\n",
       "      <td>-0.253043</td>\n",
       "    </tr>\n",
       "  </tbody>\n",
       "</table>\n",
       "</div>"
      ],
      "text/plain": [
       "    Id  OwnerUserId          CreationDate  ParentId  Score  \\\n",
       "0  497         50.0  2008-08-02T16:56:53Z       469      4   \n",
       "1  518        153.0  2008-08-02T17:42:28Z       469      2   \n",
       "3  538        156.0  2008-08-02T18:56:56Z       535     23   \n",
       "\n",
       "                                                Body    SimToQ  MaxSimToA  \\\n",
       "0  <p>open up a terminal (Applications-&gt;Utilit...  0.463144   0.010914   \n",
       "1  <p>I haven't been able to find anything that d...  0.616794   0.144977   \n",
       "3  <p>One possibility is Hudson.  It's written in...  0.088449   0.853997   \n",
       "\n",
       "   MinSimToA  \n",
       "0   0.000000  \n",
       "1   0.000000  \n",
       "3  -0.253043  "
      ]
     },
     "execution_count": 11,
     "metadata": {},
     "output_type": "execute_result"
    }
   ],
   "source": [
    "answers = answers.assign(SimToQ = answers['Id'].apply(lambda a_id: a_sim[a_id][0]))\n",
    "answers = answers.assign(MaxSimToA = answers['Id'].apply(lambda a_id: a_sim[a_id][1]))\n",
    "answers = answers.assign(MinSimToA = answers['Id'].apply(lambda a_id: a_sim[a_id][2]))\n",
    "answers.head(3)"
   ]
  },
  {
   "cell_type": "markdown",
   "metadata": {
    "collapsed": true
   },
   "source": [
    "## Shallow Features"
   ]
  },
  {
   "cell_type": "code",
   "execution_count": 12,
   "metadata": {},
   "outputs": [
    {
     "data": {
      "text/html": [
       "<div>\n",
       "<style>\n",
       "    .dataframe thead tr:only-child th {\n",
       "        text-align: right;\n",
       "    }\n",
       "\n",
       "    .dataframe thead th {\n",
       "        text-align: left;\n",
       "    }\n",
       "\n",
       "    .dataframe tbody tr th {\n",
       "        vertical-align: top;\n",
       "    }\n",
       "</style>\n",
       "<table border=\"1\" class=\"dataframe\">\n",
       "  <thead>\n",
       "    <tr style=\"text-align: right;\">\n",
       "      <th></th>\n",
       "      <th>Id</th>\n",
       "      <th>OwnerUserId</th>\n",
       "      <th>CreationDate</th>\n",
       "      <th>ParentId</th>\n",
       "      <th>Score</th>\n",
       "      <th>Body</th>\n",
       "      <th>SimToQ</th>\n",
       "      <th>MaxSimToA</th>\n",
       "      <th>MinSimToA</th>\n",
       "      <th>BodyEnglishText</th>\n",
       "      <th>EnglishCount</th>\n",
       "    </tr>\n",
       "  </thead>\n",
       "  <tbody>\n",
       "    <tr>\n",
       "      <th>0</th>\n",
       "      <td>497</td>\n",
       "      <td>50.0</td>\n",
       "      <td>2008-08-02T16:56:53Z</td>\n",
       "      <td>469</td>\n",
       "      <td>4</td>\n",
       "      <td>&lt;p&gt;open up a terminal (Applications-&amp;gt;Utilit...</td>\n",
       "      <td>0.463144</td>\n",
       "      <td>0.010914</td>\n",
       "      <td>0.000000</td>\n",
       "      <td>open up a terminal (Applications-&gt;Utilities-&gt;T...</td>\n",
       "      <td>29</td>\n",
       "    </tr>\n",
       "    <tr>\n",
       "      <th>1</th>\n",
       "      <td>518</td>\n",
       "      <td>153.0</td>\n",
       "      <td>2008-08-02T17:42:28Z</td>\n",
       "      <td>469</td>\n",
       "      <td>2</td>\n",
       "      <td>&lt;p&gt;I haven't been able to find anything that d...</td>\n",
       "      <td>0.616794</td>\n",
       "      <td>0.144977</td>\n",
       "      <td>0.000000</td>\n",
       "      <td>I haven't been able to find anything that does...</td>\n",
       "      <td>38</td>\n",
       "    </tr>\n",
       "    <tr>\n",
       "      <th>3</th>\n",
       "      <td>538</td>\n",
       "      <td>156.0</td>\n",
       "      <td>2008-08-02T18:56:56Z</td>\n",
       "      <td>535</td>\n",
       "      <td>23</td>\n",
       "      <td>&lt;p&gt;One possibility is Hudson.  It's written in...</td>\n",
       "      <td>0.088449</td>\n",
       "      <td>0.853997</td>\n",
       "      <td>-0.253043</td>\n",
       "      <td>One possibility is Hudson.  It's written in Ja...</td>\n",
       "      <td>36</td>\n",
       "    </tr>\n",
       "  </tbody>\n",
       "</table>\n",
       "</div>"
      ],
      "text/plain": [
       "    Id  OwnerUserId          CreationDate  ParentId  Score  \\\n",
       "0  497         50.0  2008-08-02T16:56:53Z       469      4   \n",
       "1  518        153.0  2008-08-02T17:42:28Z       469      2   \n",
       "3  538        156.0  2008-08-02T18:56:56Z       535     23   \n",
       "\n",
       "                                                Body    SimToQ  MaxSimToA  \\\n",
       "0  <p>open up a terminal (Applications-&gt;Utilit...  0.463144   0.010914   \n",
       "1  <p>I haven't been able to find anything that d...  0.616794   0.144977   \n",
       "3  <p>One possibility is Hudson.  It's written in...  0.088449   0.853997   \n",
       "\n",
       "   MinSimToA                                    BodyEnglishText  EnglishCount  \n",
       "0   0.000000  open up a terminal (Applications->Utilities->T...            29  \n",
       "1   0.000000  I haven't been able to find anything that does...            38  \n",
       "3  -0.253043  One possibility is Hudson.  It's written in Ja...            36  "
      ]
     },
     "execution_count": 12,
     "metadata": {},
     "output_type": "execute_result"
    }
   ],
   "source": [
    "def strip_code(html):\n",
    "    bs = BeautifulSoup(html, 'html.parser')\n",
    "    [s.extract() for s in bs('code')]\n",
    "    return bs.get_text()\n",
    "\n",
    "answers = answers.assign(BodyEnglishText = answers['Body'].apply(strip_code))\n",
    "answers = answers.assign(EnglishCount = answers['BodyEnglishText'].apply(lambda x: len(x.split())))\n",
    "answers.head(3)"
   ]
  },
  {
   "cell_type": "code",
   "execution_count": null,
   "metadata": {},
   "outputs": [
    {
     "data": {
      "text/html": [
       "<div>\n",
       "<style>\n",
       "    .dataframe thead tr:only-child th {\n",
       "        text-align: right;\n",
       "    }\n",
       "\n",
       "    .dataframe thead th {\n",
       "        text-align: left;\n",
       "    }\n",
       "\n",
       "    .dataframe tbody tr th {\n",
       "        vertical-align: top;\n",
       "    }\n",
       "</style>\n",
       "<table border=\"1\" class=\"dataframe\">\n",
       "  <thead>\n",
       "    <tr style=\"text-align: right;\">\n",
       "      <th></th>\n",
       "      <th>Id</th>\n",
       "      <th>OwnerUserId</th>\n",
       "      <th>CreationDate</th>\n",
       "      <th>ParentId</th>\n",
       "      <th>Score</th>\n",
       "      <th>Body</th>\n",
       "      <th>SimToQ</th>\n",
       "      <th>MaxSimToA</th>\n",
       "      <th>MinSimToA</th>\n",
       "      <th>BodyEnglishText</th>\n",
       "      <th>EnglishCount</th>\n",
       "      <th>LinkCount</th>\n",
       "    </tr>\n",
       "  </thead>\n",
       "  <tbody>\n",
       "    <tr>\n",
       "      <th>0</th>\n",
       "      <td>497</td>\n",
       "      <td>50.0</td>\n",
       "      <td>2008-08-02T16:56:53Z</td>\n",
       "      <td>469</td>\n",
       "      <td>4</td>\n",
       "      <td>&lt;p&gt;open up a terminal (Applications-&amp;gt;Utilit...</td>\n",
       "      <td>0.463144</td>\n",
       "      <td>0.010914</td>\n",
       "      <td>0.000000</td>\n",
       "      <td>open up a terminal (Applications-&gt;Utilities-&gt;T...</td>\n",
       "      <td>29</td>\n",
       "      <td>0</td>\n",
       "    </tr>\n",
       "    <tr>\n",
       "      <th>1</th>\n",
       "      <td>518</td>\n",
       "      <td>153.0</td>\n",
       "      <td>2008-08-02T17:42:28Z</td>\n",
       "      <td>469</td>\n",
       "      <td>2</td>\n",
       "      <td>&lt;p&gt;I haven't been able to find anything that d...</td>\n",
       "      <td>0.616794</td>\n",
       "      <td>0.144977</td>\n",
       "      <td>0.000000</td>\n",
       "      <td>I haven't been able to find anything that does...</td>\n",
       "      <td>38</td>\n",
       "      <td>0</td>\n",
       "    </tr>\n",
       "    <tr>\n",
       "      <th>3</th>\n",
       "      <td>538</td>\n",
       "      <td>156.0</td>\n",
       "      <td>2008-08-02T18:56:56Z</td>\n",
       "      <td>535</td>\n",
       "      <td>23</td>\n",
       "      <td>&lt;p&gt;One possibility is Hudson.  It's written in...</td>\n",
       "      <td>0.088449</td>\n",
       "      <td>0.853997</td>\n",
       "      <td>-0.253043</td>\n",
       "      <td>One possibility is Hudson.  It's written in Ja...</td>\n",
       "      <td>36</td>\n",
       "      <td>2</td>\n",
       "    </tr>\n",
       "  </tbody>\n",
       "</table>\n",
       "</div>"
      ],
      "text/plain": [
       "    Id  OwnerUserId          CreationDate  ParentId  Score  \\\n",
       "0  497         50.0  2008-08-02T16:56:53Z       469      4   \n",
       "1  518        153.0  2008-08-02T17:42:28Z       469      2   \n",
       "3  538        156.0  2008-08-02T18:56:56Z       535     23   \n",
       "\n",
       "                                                Body    SimToQ  MaxSimToA  \\\n",
       "0  <p>open up a terminal (Applications-&gt;Utilit...  0.463144   0.010914   \n",
       "1  <p>I haven't been able to find anything that d...  0.616794   0.144977   \n",
       "3  <p>One possibility is Hudson.  It's written in...  0.088449   0.853997   \n",
       "\n",
       "   MinSimToA                                    BodyEnglishText  EnglishCount  \\\n",
       "0   0.000000  open up a terminal (Applications->Utilities->T...            29   \n",
       "1   0.000000  I haven't been able to find anything that does...            38   \n",
       "3  -0.253043  One possibility is Hudson.  It's written in Ja...            36   \n",
       "\n",
       "   LinkCount  \n",
       "0          0  \n",
       "1          0  \n",
       "3          2  "
      ]
     },
     "execution_count": 13,
     "metadata": {},
     "output_type": "execute_result"
    }
   ],
   "source": [
    "def count_links(html):\n",
    "    bs = BeautifulSoup(html, 'html.parser')\n",
    "    return len(bs.find_all('a'))\n",
    "\n",
    "answers = answers.assign(LinkCount = answers['Body'].apply(count_links))\n",
    "answers.head(3)"
   ]
  },
  {
   "cell_type": "code",
   "execution_count": null,
   "metadata": {},
   "outputs": [],
   "source": [
    "def has_code(html):\n",
    "    bs = BeautifulSoup(html, 'html.parser')\n",
    "    return 1 if bs.find('code') else 0\n",
    "\n",
    "answers = answers.assign(HasCode = answers['Body'].apply(has_code))\n",
    "answers.head(3)"
   ]
  },
  {
   "cell_type": "code",
   "execution_count": null,
   "metadata": {},
   "outputs": [],
   "source": [
    "def code_length(html):\n",
    "    bs = BeautifulSoup(html, 'html.parser')\n",
    "    contents = [tag.text.split() for tag in bs.find_all('code')]\n",
    "    return sum(len(item) for item in contents)\n",
    "\n",
    "answers = answers.assign(CodeLength = answers['Body'].apply(code_length))\n",
    "answers = answers.assign(TotalLength = answers.apply(lambda row: row['EnglishCount'] + row['CodeLength'], axis=1))\n",
    "answers.head(3)"
   ]
  },
  {
   "cell_type": "code",
   "execution_count": null,
   "metadata": {},
   "outputs": [],
   "source": [
    "def get_order(qid, aid):\n",
    "    ids = [i[0] for i in q_to_a[qid]]\n",
    "    return ids.index(aid)+1\n",
    "\n",
    "answers = answers.assign(PostOrder = answers.apply(lambda row: get_order(row['ParentId'], row['Id']), axis=1))\n",
    "answers.head(3)"
   ]
  },
  {
   "cell_type": "code",
   "execution_count": null,
   "metadata": {},
   "outputs": [],
   "source": [
    "def is_answer(qid, aid):\n",
    "    if aid == max(q_to_a[qid], key=lambda item: item[1])[0]:\n",
    "        return 1\n",
    "    else:\n",
    "        return 0\n",
    "    \n",
    "answers = answers.assign(IsAnswer = answers.apply(lambda row: is_answer(row['ParentId'], row['Id']), axis=1))\n",
    "answers.head(3)"
   ]
  },
  {
   "cell_type": "code",
   "execution_count": null,
   "metadata": {
    "collapsed": true
   },
   "outputs": [],
   "source": [
    "# calculate reputation scores for users\n",
    "user_rep = dict()\n",
    "for ans_list in q_to_a.values():\n",
    "    for _, score, owner_id in ans_list:\n",
    "        if owner_id:\n",
    "            if owner_id in user_rep:\n",
    "                user_rep[owner_id] += score\n",
    "            else:\n",
    "                user_rep[owner_id] = score"
   ]
  },
  {
   "cell_type": "code",
   "execution_count": null,
   "metadata": {},
   "outputs": [],
   "source": [
    "def get_reputation(userId):\n",
    "    if not np.isnan(userId) and userId in user_rep:\n",
    "        return user_rep[userId]\n",
    "    else:\n",
    "        return 0\n",
    "\n",
    "answers = answers.assign(Reputation = answers['OwnerUserId'].apply(get_reputation))\n",
    "answers.head(3)"
   ]
  },
  {
   "cell_type": "markdown",
   "metadata": {},
   "source": [
    "## Training: RandomForest"
   ]
  },
  {
   "cell_type": "code",
   "execution_count": null,
   "metadata": {
    "collapsed": true
   },
   "outputs": [],
   "source": [
    "q_train, q_validation = model_selection.train_test_split(questions, test_size=0.2, random_state=42)"
   ]
  },
  {
   "cell_type": "code",
   "execution_count": null,
   "metadata": {
    "collapsed": true
   },
   "outputs": [],
   "source": [
    "a_train = answers[answers['ParentId'].isin(q_train['Id'])]\n",
    "a_validation = answers[answers['ParentId'].isin(q_validation['Id'])]"
   ]
  },
  {
   "cell_type": "code",
   "execution_count": null,
   "metadata": {
    "collapsed": true
   },
   "outputs": [],
   "source": [
    "x_train = a_train[['TotalLength','LinkCount', 'CodeLength', 'PostOrder', 'Reputation', 'SimToQ', 'MaxSimToA', 'MinSimToA']]\n",
    "y_train = a_train[['IsAnswer']]\n",
    "x_val = a_validation[['Id', 'TotalLength','LinkCount', 'CodeLength', 'PostOrder', 'Reputation', 'SimToQ', 'MaxSimToA', 'MinSimToA']]\n",
    "y_val = a_validation[['IsAnswer']]"
   ]
  },
  {
   "cell_type": "code",
   "execution_count": null,
   "metadata": {},
   "outputs": [],
   "source": [
    "rf_classifier = RandomForestClassifier(\n",
    "    n_estimators=1000, min_samples_leaf=4, n_jobs=-1, oob_score=True, random_state=42)\n",
    "\n",
    "rf_classifier.fit(x_train, y_train.values.ravel())"
   ]
  },
  {
   "cell_type": "code",
   "execution_count": null,
   "metadata": {
    "collapsed": true
   },
   "outputs": [],
   "source": [
    "y_pred = rf_classifier.predict_proba(x_val.iloc[:, 1:])"
   ]
  },
  {
   "cell_type": "code",
   "execution_count": null,
   "metadata": {},
   "outputs": [],
   "source": [
    "def get_accuracy(q_ids, a_ids, prob_pred):\n",
    "    a_to_prob = dict()\n",
    "    for idx, a_id in enumerate(a_ids):\n",
    "        prob = prob_pred[:, 1][idx]\n",
    "        a_to_prob[a_id] = prob\n",
    "        \n",
    "    count = 0\n",
    "    for q_id in q_ids:\n",
    "        right_answer = max(q_to_a[q_id], key=lambda item: item[1])[0]\n",
    "        predict_answer = 0\n",
    "        highest_score = 0\n",
    "        for a_id, score, _ in q_to_a[q_id]:\n",
    "            pred_score = a_to_prob[a_id]\n",
    "            if pred_score > highest_score:\n",
    "                predict_answer = a_id\n",
    "                highest_score = pred_score\n",
    "        if right_answer==predict_answer:\n",
    "            count += 1\n",
    "    return count/len(q_ids)\n",
    "\n",
    "print('RF model accuracy:', get_accuracy(q_validation['Id'].tolist(), a_validation['Id'].tolist(), y_pred))"
   ]
  },
  {
   "cell_type": "markdown",
   "metadata": {},
   "source": [
    "# Baseline"
   ]
  },
  {
   "cell_type": "code",
   "execution_count": null,
   "metadata": {},
   "outputs": [],
   "source": [
    "def baseline(q_ids, a_val):\n",
    "    count_first = 0\n",
    "    count_last = 0\n",
    "    count_long = 0\n",
    "    for q_id in q_ids:\n",
    "        right_answer = max(q_to_a[q_id], key=lambda item: item[1])[0]\n",
    "        \n",
    "        first_answer = q_to_a[q_id][0][0]\n",
    "        if right_answer==first_answer:\n",
    "            count_first += 1\n",
    "        \n",
    "        last_answer = q_to_a[q_id][-1][0]\n",
    "        if right_answer==last_answer:\n",
    "            count_last += 1\n",
    "            \n",
    "        longest_answer = -1\n",
    "        max_length = 0\n",
    "        for a_id, score, _ in q_to_a[q_id]:\n",
    "            leng = a_val[a_val.Id==a_id].iloc[0]['TotalLength']\n",
    "            if leng > max_length:\n",
    "                longest_answer = a_id\n",
    "                max_length = leng\n",
    "        if right_answer==longest_answer:\n",
    "            count_long += 1\n",
    "    print('Baseline for the first answer:', count_first/len(q_ids))\n",
    "    print('Baseline for the last answer:', count_last/len(q_ids))\n",
    "    print('Baseline for the longest answer:', count_long/len(q_ids))\n",
    "\n",
    "baseline(q_validation['Id'].tolist(), a_validation)"
   ]
  },
  {
   "cell_type": "markdown",
   "metadata": {},
   "source": [
    "# Explaintion of important features"
   ]
  },
  {
   "cell_type": "code",
   "execution_count": null,
   "metadata": {
    "collapsed": true
   },
   "outputs": [],
   "source": [
    "x_val = x_val.assign(PredictProba = y_pred[:, 1])"
   ]
  },
  {
   "cell_type": "code",
   "execution_count": null,
   "metadata": {},
   "outputs": [],
   "source": [
    "x_val.head(10)"
   ]
  },
  {
   "cell_type": "code",
   "execution_count": null,
   "metadata": {
    "collapsed": true
   },
   "outputs": [],
   "source": [
    "importances = rf_classifier.feature_importances_"
   ]
  },
  {
   "cell_type": "code",
   "execution_count": null,
   "metadata": {},
   "outputs": [],
   "source": [
    "std = np.std([tree.feature_importances_ for tree in rf_classifier.estimators_], axis=0)\n",
    "indices = np.argsort(importances)[::-1]\n",
    "\n",
    "# Print the feature ranking\n",
    "print(\"Feature ranking:\")\n",
    "\n",
    "for f in range(x_val.shape[1]-2):\n",
    "    print(\"%d. feature %d (%f)\" % (f + 1, indices[f], importances[indices[f]]))"
   ]
  },
  {
   "cell_type": "code",
   "execution_count": null,
   "metadata": {},
   "outputs": [],
   "source": [
    "import matplotlib.pyplot as plt\n",
    "\n",
    "plt.figure()\n",
    "plt.title(\"Feature importances\")\n",
    "plt.bar(range(x_val.shape[1]-2), importances[indices],\n",
    "       color=\"r\", yerr=std[indices], align=\"center\")\n",
    "plt.xticks(range(x_val.shape[1]-2), indices)\n",
    "plt.xlim([-1, x_val.shape[1]-2])\n",
    "plt.show()"
   ]
  }
 ],
 "metadata": {
  "kernelspec": {
   "display_name": "Python 3",
   "language": "python",
   "name": "python3"
  },
  "language_info": {
   "codemirror_mode": {
    "name": "ipython",
    "version": 3
   },
   "file_extension": ".py",
   "mimetype": "text/x-python",
   "name": "python",
   "nbconvert_exporter": "python",
   "pygments_lexer": "ipython3",
   "version": "3.6.3"
  }
 },
 "nbformat": 4,
 "nbformat_minor": 2
}
